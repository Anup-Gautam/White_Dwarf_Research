{
 "cells": [
  {
   "cell_type": "code",
   "execution_count": 17,
   "id": "40297053-8cfb-4826-b891-dc0fe5012711",
   "metadata": {},
   "outputs": [],
   "source": [
    "import pandas as pd\n",
    "import os\n",
    "\n",
    "# List all CSV files in the directory\n",
    "csv_files = [file for file in os.listdir() if file.endswith('.csv')]\n",
    "\n",
    "# Initialize an empty set to store common column names\n",
    "common_columns = None\n",
    "\n",
    "# Iterate through each CSV file\n",
    "for file in csv_files:\n",
    "    # Read the CSV file into a DataFrame\n",
    "    df = pd.read_csv(file)\n",
    "    \n",
    "    # Get the column names as a set\n",
    "    column_names = set(df.columns)\n",
    "    \n",
    "    # If common_columns is None, initialize it with the column names of the first file\n",
    "    if common_columns is None:\n",
    "        common_columns = column_names\n",
    "    else:\n",
    "        # Update common_columns with the intersection of its current value and the column names of the current file\n",
    "        common_columns = common_columns.intersection(column_names)\n",
    "\n",
    "# Initialize an empty list to store DataFrames\n",
    "dfs = []\n",
    "\n",
    "# Iterate through each CSV file\n",
    "for file in csv_files:\n",
    "    # Read the CSV file into a DataFrame\n",
    "    df = pd.read_csv(file)\n",
    "    \n",
    "    # Keep only the common columns\n",
    "    df = df[list(common_columns)]\n",
    "    \n",
    "    # Append the DataFrame to the list\n",
    "    dfs.append(df)\n",
    "\n",
    "# Merge all DataFrames in the list based on common headers\n",
    "merged_df = pd.concat(dfs, ignore_index=True)\n",
    "\n",
    "# Save the merged DataFrame to a new CSV file\n",
    "merged_df.to_csv(\"merged_output.csv\", index=False)\n"
   ]
  },
  {
   "cell_type": "code",
   "execution_count": null,
   "id": "cca6e6c2-0d88-484a-9bf3-f0502c4ee37f",
   "metadata": {},
   "outputs": [],
   "source": []
  }
 ],
 "metadata": {
  "kernelspec": {
   "display_name": "Python 3 (ipykernel)",
   "language": "python",
   "name": "python3"
  },
  "language_info": {
   "codemirror_mode": {
    "name": "ipython",
    "version": 3
   },
   "file_extension": ".py",
   "mimetype": "text/x-python",
   "name": "python",
   "nbconvert_exporter": "python",
   "pygments_lexer": "ipython3",
   "version": "3.9.7"
  }
 },
 "nbformat": 4,
 "nbformat_minor": 5
}
