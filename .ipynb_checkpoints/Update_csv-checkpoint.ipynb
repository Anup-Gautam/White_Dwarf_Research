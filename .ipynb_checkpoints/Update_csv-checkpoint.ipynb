{
 "cells": [
  {
   "cell_type": "code",
   "execution_count": 13,
   "id": "91d0a316-9842-47dd-a1d0-e0c437b4e437",
   "metadata": {},
   "outputs": [],
   "source": [
    "import pandas as pd"
   ]
  },
  {
   "cell_type": "code",
   "execution_count": 16,
   "id": "dd494463-c8e5-47eb-9823-e9e1b0689a6d",
   "metadata": {},
   "outputs": [],
   "source": [
    "#Process\n",
    "#Step1: Read the CSV File\n",
    "#Step2: Add a new column Type\n",
    "#Step3: Convert the data frame to csv file"
   ]
  },
  {
   "cell_type": "code",
   "execution_count": 2,
   "id": "713a3f53-b3cc-4e73-b731-2f43df26b4f4",
   "metadata": {},
   "outputs": [],
   "source": [
    "amcvn_data = pd.read_csv(\"AMCVNs.csv\")\n",
    "amcvn_data[\"Type\"] = \"AMCVNs\"\n",
    "amcvn_data.to_csv(\"updated_AMCVNs.csv\", index = False)"
   ]
  },
  {
   "cell_type": "code",
   "execution_count": 5,
   "id": "731d37ff-b416-4b25-8460-c12c18b7a31d",
   "metadata": {},
   "outputs": [],
   "source": [
    "cat_var_data = pd.read_csv(\"Cat_Var.csv\")\n",
    "cat_var_data[\"Type\"] = \"Catacalysmic Variables\"\n",
    "cat_var_data.to_csv(\"updated_Cat_Var.csv\", index = False)"
   ]
  },
  {
   "cell_type": "code",
   "execution_count": 6,
   "id": "3914757f-093e-4393-ab74-fbf53862b989",
   "metadata": {},
   "outputs": [],
   "source": [
    "lmwd1_data = pd.read_csv(\"Low_Mass_WD1.csv\")\n",
    "lmwd1_data[\"Type\"] = \"Low Mass White Dwarfs\"\n",
    "lmwd1_data.to_csv(\"updated_Low_Mass_WD1.csv\", index = False)"
   ]
  },
  {
   "cell_type": "code",
   "execution_count": 7,
   "id": "b3861af4-6015-4fc2-afb4-43aa4a03f2a0",
   "metadata": {},
   "outputs": [],
   "source": [
    "lmwd2_data = pd.read_csv(\"Low_Mass_WD2.csv\")\n",
    "lmwd2_data[\"Type\"] = \"Low Mass White Dwarfs\"\n",
    "lmwd2_data.to_csv(\"updated_Low_Mass_WD2.csv\", index = False)"
   ]
  },
  {
   "cell_type": "code",
   "execution_count": 10,
   "id": "5994af89-9cc3-4843-8f94-e87fbe394f63",
   "metadata": {},
   "outputs": [],
   "source": [
    "quasar1_data = pd.read_csv(\"Quasars1.csv\")\n",
    "quasar1_data[\"Type\"] = \"Quasars\"\n",
    "quasar1_data.to_csv(\"updated_Quasars1.csv\", index = False)"
   ]
  },
  {
   "cell_type": "code",
   "execution_count": 11,
   "id": "884fc2af-c572-4603-9cf9-490547e53b17",
   "metadata": {},
   "outputs": [],
   "source": [
    "quasar2_data = pd.read_csv(\"Quasars2.csv\")\n",
    "quasar2_data[\"Type\"] = \"Quasars\"\n",
    "quasar2_data.to_csv(\"updated_Quasars2.csv\", index = False)"
   ]
  },
  {
   "cell_type": "code",
   "execution_count": 19,
   "id": "06f8c2bf-041d-419d-8cdd-0236ad1c24c7",
   "metadata": {},
   "outputs": [],
   "source": [
    "#For this data , we are seperating the types which start with D from other datas\n",
    "wd_data = pd.read_csv(\"White_Dwarfs.csv\")\n",
    "# filtering data\n",
    "wd_new_data = wd_data[wd_data[\"Type\"].str.startswith(\"D\")]\n",
    "wd_new_data.to_csv(\"White_Dwarfs_Filter.csv\", index = False)\n"
   ]
  },
  {
   "cell_type": "code",
   "execution_count": 21,
   "id": "febaa680-3f9c-425e-9c47-bf4942d9e16f",
   "metadata": {},
   "outputs": [],
   "source": [
    "wdf_data = pd.read_csv(\"White_Dwarfs_Filter.csv\")\n",
    "wdf_data[\"Type\"] = \"White Dwarfs\"\n",
    "wdf_data.to_csv(\"updated_White_Dwarfs.csv\", index = False)"
   ]
  },
  {
   "cell_type": "code",
   "execution_count": null,
   "id": "6390d893-8b9f-49ce-9e5f-d15106d79f38",
   "metadata": {},
   "outputs": [],
   "source": []
  }
 ],
 "metadata": {
  "kernelspec": {
   "display_name": "Python 3 (ipykernel)",
   "language": "python",
   "name": "python3"
  },
  "language_info": {
   "codemirror_mode": {
    "name": "ipython",
    "version": 3
   },
   "file_extension": ".py",
   "mimetype": "text/x-python",
   "name": "python",
   "nbconvert_exporter": "python",
   "pygments_lexer": "ipython3",
   "version": "3.9.7"
  }
 },
 "nbformat": 4,
 "nbformat_minor": 5
}
